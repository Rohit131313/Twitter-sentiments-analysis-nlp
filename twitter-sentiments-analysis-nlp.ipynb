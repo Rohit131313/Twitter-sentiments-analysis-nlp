{
 "cells": [
  {
   "cell_type": "markdown",
   "metadata": {
    "_cell_guid": "b1076dfc-b9ad-4769-8c92-a6c4dae69d19",
    "_uuid": "8f2839f25d086af736a60e9eeb907d3b93b6e0e5"
   },
   "source": [
    "# Twitter Sentiment Analysis - NLP"
   ]
  },
  {
   "cell_type": "code",
   "execution_count": 1,
   "metadata": {
    "execution": {
     "iopub.execute_input": "2024-04-12T09:32:08.683056Z",
     "iopub.status.busy": "2024-04-12T09:32:08.682256Z",
     "iopub.status.idle": "2024-04-12T09:32:08.698568Z",
     "shell.execute_reply": "2024-04-12T09:32:08.697581Z",
     "shell.execute_reply.started": "2024-04-12T09:32:08.683020Z"
    }
   },
   "outputs": [
    {
     "name": "stdout",
     "output_type": "stream",
     "text": [
      "/kaggle/input/sentiment140/training.1600000.processed.noemoticon.csv\n"
     ]
    }
   ],
   "source": [
    "import os\n",
    "for dirname, _, filenames in os.walk('/kaggle/input'):\n",
    "    for filename in filenames:\n",
    "        print(os.path.join(dirname, filename))"
   ]
  },
  {
   "cell_type": "code",
   "execution_count": 2,
   "metadata": {
    "execution": {
     "iopub.execute_input": "2024-04-12T09:32:08.707846Z",
     "iopub.status.busy": "2024-04-12T09:32:08.707589Z",
     "iopub.status.idle": "2024-04-12T09:32:08.711572Z",
     "shell.execute_reply": "2024-04-12T09:32:08.710644Z",
     "shell.execute_reply.started": "2024-04-12T09:32:08.707824Z"
    }
   },
   "outputs": [],
   "source": [
    "## Our roadmap\n",
    "## collect tweet data -> data pre processing ( to convert word to vector or number ) ->train test split -> logistic regression model \n",
    "## new tweet data ->  model -> predict positive or negative tweet"
   ]
  },
  {
   "cell_type": "markdown",
   "metadata": {},
   "source": [
    "### Importing Dependency"
   ]
  },
  {
   "cell_type": "code",
   "execution_count": 3,
   "metadata": {
    "execution": {
     "iopub.execute_input": "2024-04-12T09:32:08.714264Z",
     "iopub.status.busy": "2024-04-12T09:32:08.713710Z",
     "iopub.status.idle": "2024-04-12T09:32:11.472425Z",
     "shell.execute_reply": "2024-04-12T09:32:11.471394Z",
     "shell.execute_reply.started": "2024-04-12T09:32:08.714214Z"
    }
   },
   "outputs": [],
   "source": [
    "import numpy as np\n",
    "import pandas as pd\n",
    "import re\n",
    "from nltk.corpus import stopwords\n",
    "from nltk.stem.porter import PorterStemmer\n",
    "from sklearn.feature_extraction.text import TfidfVectorizer\n",
    "from sklearn.model_selection import train_test_split\n",
    "from sklearn.linear_model import LogisticRegression\n",
    "from sklearn.metrics import accuracy_score"
   ]
  },
  {
   "cell_type": "code",
   "execution_count": 4,
   "metadata": {
    "execution": {
     "iopub.execute_input": "2024-04-12T09:32:11.474918Z",
     "iopub.status.busy": "2024-04-12T09:32:11.473842Z",
     "iopub.status.idle": "2024-04-12T09:32:11.552717Z",
     "shell.execute_reply": "2024-04-12T09:32:11.551896Z",
     "shell.execute_reply.started": "2024-04-12T09:32:11.474879Z"
    }
   },
   "outputs": [
    {
     "name": "stdout",
     "output_type": "stream",
     "text": [
      "[nltk_data] Downloading package stopwords to /usr/share/nltk_data...\n",
      "[nltk_data]   Package stopwords is already up-to-date!\n"
     ]
    },
    {
     "data": {
      "text/plain": [
       "True"
      ]
     },
     "execution_count": 4,
     "metadata": {},
     "output_type": "execute_result"
    }
   ],
   "source": [
    "import nltk \n",
    "nltk.download('stopwords')"
   ]
  },
  {
   "cell_type": "code",
   "execution_count": 5,
   "metadata": {
    "execution": {
     "iopub.execute_input": "2024-04-12T09:32:11.553975Z",
     "iopub.status.busy": "2024-04-12T09:32:11.553730Z",
     "iopub.status.idle": "2024-04-12T09:32:11.561927Z",
     "shell.execute_reply": "2024-04-12T09:32:11.561028Z",
     "shell.execute_reply.started": "2024-04-12T09:32:11.553953Z"
    }
   },
   "outputs": [
    {
     "name": "stdout",
     "output_type": "stream",
     "text": [
      "['i', 'me', 'my', 'myself', 'we', 'our', 'ours', 'ourselves', 'you', \"you're\", \"you've\", \"you'll\", \"you'd\", 'your', 'yours', 'yourself', 'yourselves', 'he', 'him', 'his', 'himself', 'she', \"she's\", 'her', 'hers', 'herself', 'it', \"it's\", 'its', 'itself', 'they', 'them', 'their', 'theirs', 'themselves', 'what', 'which', 'who', 'whom', 'this', 'that', \"that'll\", 'these', 'those', 'am', 'is', 'are', 'was', 'were', 'be', 'been', 'being', 'have', 'has', 'had', 'having', 'do', 'does', 'did', 'doing', 'a', 'an', 'the', 'and', 'but', 'if', 'or', 'because', 'as', 'until', 'while', 'of', 'at', 'by', 'for', 'with', 'about', 'against', 'between', 'into', 'through', 'during', 'before', 'after', 'above', 'below', 'to', 'from', 'up', 'down', 'in', 'out', 'on', 'off', 'over', 'under', 'again', 'further', 'then', 'once', 'here', 'there', 'when', 'where', 'why', 'how', 'all', 'any', 'both', 'each', 'few', 'more', 'most', 'other', 'some', 'such', 'no', 'nor', 'not', 'only', 'own', 'same', 'so', 'than', 'too', 'very', 's', 't', 'can', 'will', 'just', 'don', \"don't\", 'should', \"should've\", 'now', 'd', 'll', 'm', 'o', 're', 've', 'y', 'ain', 'aren', \"aren't\", 'couldn', \"couldn't\", 'didn', \"didn't\", 'doesn', \"doesn't\", 'hadn', \"hadn't\", 'hasn', \"hasn't\", 'haven', \"haven't\", 'isn', \"isn't\", 'ma', 'mightn', \"mightn't\", 'mustn', \"mustn't\", 'needn', \"needn't\", 'shan', \"shan't\", 'shouldn', \"shouldn't\", 'wasn', \"wasn't\", 'weren', \"weren't\", 'won', \"won't\", 'wouldn', \"wouldn't\"]\n"
     ]
    }
   ],
   "source": [
    "## printing the stopwords in English\n",
    "print(stopwords.words('english'))"
   ]
  },
  {
   "cell_type": "code",
   "execution_count": 6,
   "metadata": {
    "execution": {
     "iopub.execute_input": "2024-04-12T09:32:11.564748Z",
     "iopub.status.busy": "2024-04-12T09:32:11.564463Z",
     "iopub.status.idle": "2024-04-12T09:32:17.618229Z",
     "shell.execute_reply": "2024-04-12T09:32:17.617232Z",
     "shell.execute_reply.started": "2024-04-12T09:32:11.564725Z"
    }
   },
   "outputs": [],
   "source": [
    "## loading the data from csv file to pandas dataframe\n",
    "twitter_data = pd.read_csv('/kaggle/input/sentiment140/training.1600000.processed.noemoticon.csv' , encoding = 'ISO-8859-1')"
   ]
  },
  {
   "cell_type": "code",
   "execution_count": 7,
   "metadata": {
    "execution": {
     "iopub.execute_input": "2024-04-12T09:32:17.619847Z",
     "iopub.status.busy": "2024-04-12T09:32:17.619486Z",
     "iopub.status.idle": "2024-04-12T09:32:17.626184Z",
     "shell.execute_reply": "2024-04-12T09:32:17.625240Z",
     "shell.execute_reply.started": "2024-04-12T09:32:17.619816Z"
    }
   },
   "outputs": [
    {
     "data": {
      "text/plain": [
       "(1599999, 6)"
      ]
     },
     "execution_count": 7,
     "metadata": {},
     "output_type": "execute_result"
    }
   ],
   "source": [
    "## checking the number of rows and columns \n",
    "twitter_data.shape"
   ]
  },
  {
   "cell_type": "code",
   "execution_count": 8,
   "metadata": {
    "execution": {
     "iopub.execute_input": "2024-04-12T09:32:17.628324Z",
     "iopub.status.busy": "2024-04-12T09:32:17.627650Z",
     "iopub.status.idle": "2024-04-12T09:32:17.650096Z",
     "shell.execute_reply": "2024-04-12T09:32:17.649222Z",
     "shell.execute_reply.started": "2024-04-12T09:32:17.628293Z"
    }
   },
   "outputs": [
    {
     "data": {
      "text/html": [
       "<div>\n",
       "<style scoped>\n",
       "    .dataframe tbody tr th:only-of-type {\n",
       "        vertical-align: middle;\n",
       "    }\n",
       "\n",
       "    .dataframe tbody tr th {\n",
       "        vertical-align: top;\n",
       "    }\n",
       "\n",
       "    .dataframe thead th {\n",
       "        text-align: right;\n",
       "    }\n",
       "</style>\n",
       "<table border=\"1\" class=\"dataframe\">\n",
       "  <thead>\n",
       "    <tr style=\"text-align: right;\">\n",
       "      <th></th>\n",
       "      <th>0</th>\n",
       "      <th>1467810369</th>\n",
       "      <th>Mon Apr 06 22:19:45 PDT 2009</th>\n",
       "      <th>NO_QUERY</th>\n",
       "      <th>_TheSpecialOne_</th>\n",
       "      <th>@switchfoot http://twitpic.com/2y1zl - Awww, that's a bummer.  You shoulda got David Carr of Third Day to do it. ;D</th>\n",
       "    </tr>\n",
       "  </thead>\n",
       "  <tbody>\n",
       "    <tr>\n",
       "      <th>0</th>\n",
       "      <td>0</td>\n",
       "      <td>1467810672</td>\n",
       "      <td>Mon Apr 06 22:19:49 PDT 2009</td>\n",
       "      <td>NO_QUERY</td>\n",
       "      <td>scotthamilton</td>\n",
       "      <td>is upset that he can't update his Facebook by ...</td>\n",
       "    </tr>\n",
       "    <tr>\n",
       "      <th>1</th>\n",
       "      <td>0</td>\n",
       "      <td>1467810917</td>\n",
       "      <td>Mon Apr 06 22:19:53 PDT 2009</td>\n",
       "      <td>NO_QUERY</td>\n",
       "      <td>mattycus</td>\n",
       "      <td>@Kenichan I dived many times for the ball. Man...</td>\n",
       "    </tr>\n",
       "    <tr>\n",
       "      <th>2</th>\n",
       "      <td>0</td>\n",
       "      <td>1467811184</td>\n",
       "      <td>Mon Apr 06 22:19:57 PDT 2009</td>\n",
       "      <td>NO_QUERY</td>\n",
       "      <td>ElleCTF</td>\n",
       "      <td>my whole body feels itchy and like its on fire</td>\n",
       "    </tr>\n",
       "    <tr>\n",
       "      <th>3</th>\n",
       "      <td>0</td>\n",
       "      <td>1467811193</td>\n",
       "      <td>Mon Apr 06 22:19:57 PDT 2009</td>\n",
       "      <td>NO_QUERY</td>\n",
       "      <td>Karoli</td>\n",
       "      <td>@nationwideclass no, it's not behaving at all....</td>\n",
       "    </tr>\n",
       "    <tr>\n",
       "      <th>4</th>\n",
       "      <td>0</td>\n",
       "      <td>1467811372</td>\n",
       "      <td>Mon Apr 06 22:20:00 PDT 2009</td>\n",
       "      <td>NO_QUERY</td>\n",
       "      <td>joy_wolf</td>\n",
       "      <td>@Kwesidei not the whole crew</td>\n",
       "    </tr>\n",
       "  </tbody>\n",
       "</table>\n",
       "</div>"
      ],
      "text/plain": [
       "   0  1467810369  Mon Apr 06 22:19:45 PDT 2009  NO_QUERY _TheSpecialOne_  \\\n",
       "0  0  1467810672  Mon Apr 06 22:19:49 PDT 2009  NO_QUERY   scotthamilton   \n",
       "1  0  1467810917  Mon Apr 06 22:19:53 PDT 2009  NO_QUERY        mattycus   \n",
       "2  0  1467811184  Mon Apr 06 22:19:57 PDT 2009  NO_QUERY         ElleCTF   \n",
       "3  0  1467811193  Mon Apr 06 22:19:57 PDT 2009  NO_QUERY          Karoli   \n",
       "4  0  1467811372  Mon Apr 06 22:20:00 PDT 2009  NO_QUERY        joy_wolf   \n",
       "\n",
       "  @switchfoot http://twitpic.com/2y1zl - Awww, that's a bummer.  You shoulda got David Carr of Third Day to do it. ;D  \n",
       "0  is upset that he can't update his Facebook by ...                                                                   \n",
       "1  @Kenichan I dived many times for the ball. Man...                                                                   \n",
       "2    my whole body feels itchy and like its on fire                                                                    \n",
       "3  @nationwideclass no, it's not behaving at all....                                                                   \n",
       "4                      @Kwesidei not the whole crew                                                                    "
      ]
     },
     "execution_count": 8,
     "metadata": {},
     "output_type": "execute_result"
    }
   ],
   "source": [
    "## printing the first 5 rows of the dataframe\n",
    "twitter_data.head()"
   ]
  },
  {
   "cell_type": "code",
   "execution_count": 9,
   "metadata": {
    "execution": {
     "iopub.execute_input": "2024-04-12T09:32:17.651586Z",
     "iopub.status.busy": "2024-04-12T09:32:17.651184Z",
     "iopub.status.idle": "2024-04-12T09:32:21.586732Z",
     "shell.execute_reply": "2024-04-12T09:32:21.585655Z",
     "shell.execute_reply.started": "2024-04-12T09:32:17.651557Z"
    }
   },
   "outputs": [],
   "source": [
    "## naming the column and reading the dataset again\n",
    "column_names = ['target' , 'id' ,'date' , 'flag' , 'user' , 'text']\n",
    "twitter_data = pd.read_csv('/kaggle/input/sentiment140/training.1600000.processed.noemoticon.csv' , names=column_names , encoding = 'ISO-8859-1')"
   ]
  },
  {
   "cell_type": "code",
   "execution_count": 10,
   "metadata": {
    "execution": {
     "iopub.execute_input": "2024-04-12T09:32:21.588310Z",
     "iopub.status.busy": "2024-04-12T09:32:21.587997Z",
     "iopub.status.idle": "2024-04-12T09:32:21.594644Z",
     "shell.execute_reply": "2024-04-12T09:32:21.593659Z",
     "shell.execute_reply.started": "2024-04-12T09:32:21.588284Z"
    }
   },
   "outputs": [
    {
     "data": {
      "text/plain": [
       "(1600000, 6)"
      ]
     },
     "execution_count": 10,
     "metadata": {},
     "output_type": "execute_result"
    }
   ],
   "source": [
    "## checking the number of rows and columns\n",
    "twitter_data.shape"
   ]
  },
  {
   "cell_type": "code",
   "execution_count": 11,
   "metadata": {
    "execution": {
     "iopub.execute_input": "2024-04-12T09:32:21.596258Z",
     "iopub.status.busy": "2024-04-12T09:32:21.595974Z",
     "iopub.status.idle": "2024-04-12T09:32:21.613006Z",
     "shell.execute_reply": "2024-04-12T09:32:21.612006Z",
     "shell.execute_reply.started": "2024-04-12T09:32:21.596229Z"
    }
   },
   "outputs": [
    {
     "data": {
      "text/html": [
       "<div>\n",
       "<style scoped>\n",
       "    .dataframe tbody tr th:only-of-type {\n",
       "        vertical-align: middle;\n",
       "    }\n",
       "\n",
       "    .dataframe tbody tr th {\n",
       "        vertical-align: top;\n",
       "    }\n",
       "\n",
       "    .dataframe thead th {\n",
       "        text-align: right;\n",
       "    }\n",
       "</style>\n",
       "<table border=\"1\" class=\"dataframe\">\n",
       "  <thead>\n",
       "    <tr style=\"text-align: right;\">\n",
       "      <th></th>\n",
       "      <th>target</th>\n",
       "      <th>id</th>\n",
       "      <th>date</th>\n",
       "      <th>flag</th>\n",
       "      <th>user</th>\n",
       "      <th>text</th>\n",
       "    </tr>\n",
       "  </thead>\n",
       "  <tbody>\n",
       "    <tr>\n",
       "      <th>0</th>\n",
       "      <td>0</td>\n",
       "      <td>1467810369</td>\n",
       "      <td>Mon Apr 06 22:19:45 PDT 2009</td>\n",
       "      <td>NO_QUERY</td>\n",
       "      <td>_TheSpecialOne_</td>\n",
       "      <td>@switchfoot http://twitpic.com/2y1zl - Awww, t...</td>\n",
       "    </tr>\n",
       "    <tr>\n",
       "      <th>1</th>\n",
       "      <td>0</td>\n",
       "      <td>1467810672</td>\n",
       "      <td>Mon Apr 06 22:19:49 PDT 2009</td>\n",
       "      <td>NO_QUERY</td>\n",
       "      <td>scotthamilton</td>\n",
       "      <td>is upset that he can't update his Facebook by ...</td>\n",
       "    </tr>\n",
       "    <tr>\n",
       "      <th>2</th>\n",
       "      <td>0</td>\n",
       "      <td>1467810917</td>\n",
       "      <td>Mon Apr 06 22:19:53 PDT 2009</td>\n",
       "      <td>NO_QUERY</td>\n",
       "      <td>mattycus</td>\n",
       "      <td>@Kenichan I dived many times for the ball. Man...</td>\n",
       "    </tr>\n",
       "    <tr>\n",
       "      <th>3</th>\n",
       "      <td>0</td>\n",
       "      <td>1467811184</td>\n",
       "      <td>Mon Apr 06 22:19:57 PDT 2009</td>\n",
       "      <td>NO_QUERY</td>\n",
       "      <td>ElleCTF</td>\n",
       "      <td>my whole body feels itchy and like its on fire</td>\n",
       "    </tr>\n",
       "    <tr>\n",
       "      <th>4</th>\n",
       "      <td>0</td>\n",
       "      <td>1467811193</td>\n",
       "      <td>Mon Apr 06 22:19:57 PDT 2009</td>\n",
       "      <td>NO_QUERY</td>\n",
       "      <td>Karoli</td>\n",
       "      <td>@nationwideclass no, it's not behaving at all....</td>\n",
       "    </tr>\n",
       "  </tbody>\n",
       "</table>\n",
       "</div>"
      ],
      "text/plain": [
       "   target          id                          date      flag  \\\n",
       "0       0  1467810369  Mon Apr 06 22:19:45 PDT 2009  NO_QUERY   \n",
       "1       0  1467810672  Mon Apr 06 22:19:49 PDT 2009  NO_QUERY   \n",
       "2       0  1467810917  Mon Apr 06 22:19:53 PDT 2009  NO_QUERY   \n",
       "3       0  1467811184  Mon Apr 06 22:19:57 PDT 2009  NO_QUERY   \n",
       "4       0  1467811193  Mon Apr 06 22:19:57 PDT 2009  NO_QUERY   \n",
       "\n",
       "              user                                               text  \n",
       "0  _TheSpecialOne_  @switchfoot http://twitpic.com/2y1zl - Awww, t...  \n",
       "1    scotthamilton  is upset that he can't update his Facebook by ...  \n",
       "2         mattycus  @Kenichan I dived many times for the ball. Man...  \n",
       "3          ElleCTF    my whole body feels itchy and like its on fire   \n",
       "4           Karoli  @nationwideclass no, it's not behaving at all....  "
      ]
     },
     "execution_count": 11,
     "metadata": {},
     "output_type": "execute_result"
    }
   ],
   "source": [
    "twitter_data.head()"
   ]
  },
  {
   "cell_type": "code",
   "execution_count": 12,
   "metadata": {
    "execution": {
     "iopub.execute_input": "2024-04-12T09:32:21.614212Z",
     "iopub.status.busy": "2024-04-12T09:32:21.613955Z",
     "iopub.status.idle": "2024-04-12T09:32:22.240260Z",
     "shell.execute_reply": "2024-04-12T09:32:22.239284Z",
     "shell.execute_reply.started": "2024-04-12T09:32:21.614189Z"
    }
   },
   "outputs": [
    {
     "data": {
      "text/plain": [
       "target    0\n",
       "id        0\n",
       "date      0\n",
       "flag      0\n",
       "user      0\n",
       "text      0\n",
       "dtype: int64"
      ]
     },
     "execution_count": 12,
     "metadata": {},
     "output_type": "execute_result"
    }
   ],
   "source": [
    "## counting the number of missing values in the dataset \n",
    "twitter_data.isnull().sum()"
   ]
  },
  {
   "cell_type": "code",
   "execution_count": 13,
   "metadata": {
    "execution": {
     "iopub.execute_input": "2024-04-12T09:32:22.241720Z",
     "iopub.status.busy": "2024-04-12T09:32:22.241447Z",
     "iopub.status.idle": "2024-04-12T09:32:22.269145Z",
     "shell.execute_reply": "2024-04-12T09:32:22.268180Z",
     "shell.execute_reply.started": "2024-04-12T09:32:22.241696Z"
    }
   },
   "outputs": [
    {
     "data": {
      "text/plain": [
       "target\n",
       "0    800000\n",
       "4    800000\n",
       "Name: count, dtype: int64"
      ]
     },
     "execution_count": 13,
     "metadata": {},
     "output_type": "execute_result"
    }
   ],
   "source": [
    "## checking the distribution of the target column\n",
    "twitter_data['target'].value_counts()"
   ]
  },
  {
   "cell_type": "code",
   "execution_count": 14,
   "metadata": {
    "execution": {
     "iopub.execute_input": "2024-04-12T09:32:22.275430Z",
     "iopub.status.busy": "2024-04-12T09:32:22.274990Z",
     "iopub.status.idle": "2024-04-12T09:32:22.292920Z",
     "shell.execute_reply": "2024-04-12T09:32:22.292231Z",
     "shell.execute_reply.started": "2024-04-12T09:32:22.275406Z"
    }
   },
   "outputs": [],
   "source": [
    "## Convert the target \"4\" to \"1\"\n",
    "twitter_data.replace({'target':{4:1}} , inplace = True)"
   ]
  },
  {
   "cell_type": "code",
   "execution_count": 15,
   "metadata": {
    "execution": {
     "iopub.execute_input": "2024-04-12T09:32:22.294137Z",
     "iopub.status.busy": "2024-04-12T09:32:22.293888Z",
     "iopub.status.idle": "2024-04-12T09:32:22.312604Z",
     "shell.execute_reply": "2024-04-12T09:32:22.311682Z",
     "shell.execute_reply.started": "2024-04-12T09:32:22.294115Z"
    }
   },
   "outputs": [
    {
     "data": {
      "text/plain": [
       "target\n",
       "0    800000\n",
       "1    800000\n",
       "Name: count, dtype: int64"
      ]
     },
     "execution_count": 15,
     "metadata": {},
     "output_type": "execute_result"
    }
   ],
   "source": [
    "twitter_data['target'].value_counts()"
   ]
  },
  {
   "cell_type": "markdown",
   "metadata": {},
   "source": [
    "### 0 means negative tweet and 1 means positive tweet"
   ]
  },
  {
   "cell_type": "markdown",
   "metadata": {},
   "source": [
    "### Stemming"
   ]
  },
  {
   "cell_type": "code",
   "execution_count": 16,
   "metadata": {
    "execution": {
     "iopub.execute_input": "2024-04-12T09:32:22.313967Z",
     "iopub.status.busy": "2024-04-12T09:32:22.313677Z",
     "iopub.status.idle": "2024-04-12T09:32:22.320035Z",
     "shell.execute_reply": "2024-04-12T09:32:22.319180Z",
     "shell.execute_reply.started": "2024-04-12T09:32:22.313929Z"
    }
   },
   "outputs": [],
   "source": [
    "port_stem = PorterStemmer()"
   ]
  },
  {
   "cell_type": "code",
   "execution_count": 17,
   "metadata": {
    "execution": {
     "iopub.execute_input": "2024-04-12T09:32:22.322307Z",
     "iopub.status.busy": "2024-04-12T09:32:22.321350Z",
     "iopub.status.idle": "2024-04-12T09:32:22.329739Z",
     "shell.execute_reply": "2024-04-12T09:32:22.328814Z",
     "shell.execute_reply.started": "2024-04-12T09:32:22.322248Z"
    }
   },
   "outputs": [],
   "source": [
    "def stemming(content):\n",
    "    stemmed_content = re.sub('{^a-zA-Z}',' ',content)\n",
    "    stemmed_content = stemmed_content.lower()\n",
    "    stemmed_content = stemmed_content.split()\n",
    "    stemmed_content = [port_stem.stem(word) for word in stemmed_content if not word in stopwords.words('english')]\n",
    "    stemmed_content = ' '.join(stemmed_content)\n",
    "    \n",
    "    return stemmed_content"
   ]
  },
  {
   "cell_type": "code",
   "execution_count": 18,
   "metadata": {
    "execution": {
     "iopub.execute_input": "2024-04-12T09:32:22.331494Z",
     "iopub.status.busy": "2024-04-12T09:32:22.330909Z",
     "iopub.status.idle": "2024-04-12T10:21:23.193383Z",
     "shell.execute_reply": "2024-04-12T10:21:23.192565Z",
     "shell.execute_reply.started": "2024-04-12T09:32:22.331459Z"
    }
   },
   "outputs": [],
   "source": [
    "twitter_data['stemmed_content'] = twitter_data['text'].apply(stemming)"
   ]
  },
  {
   "cell_type": "code",
   "execution_count": 19,
   "metadata": {
    "execution": {
     "iopub.execute_input": "2024-04-12T10:21:23.194664Z",
     "iopub.status.busy": "2024-04-12T10:21:23.194408Z",
     "iopub.status.idle": "2024-04-12T10:21:23.206746Z",
     "shell.execute_reply": "2024-04-12T10:21:23.205907Z",
     "shell.execute_reply.started": "2024-04-12T10:21:23.194642Z"
    }
   },
   "outputs": [
    {
     "data": {
      "text/html": [
       "<div>\n",
       "<style scoped>\n",
       "    .dataframe tbody tr th:only-of-type {\n",
       "        vertical-align: middle;\n",
       "    }\n",
       "\n",
       "    .dataframe tbody tr th {\n",
       "        vertical-align: top;\n",
       "    }\n",
       "\n",
       "    .dataframe thead th {\n",
       "        text-align: right;\n",
       "    }\n",
       "</style>\n",
       "<table border=\"1\" class=\"dataframe\">\n",
       "  <thead>\n",
       "    <tr style=\"text-align: right;\">\n",
       "      <th></th>\n",
       "      <th>target</th>\n",
       "      <th>id</th>\n",
       "      <th>date</th>\n",
       "      <th>flag</th>\n",
       "      <th>user</th>\n",
       "      <th>text</th>\n",
       "      <th>stemmed_content</th>\n",
       "    </tr>\n",
       "  </thead>\n",
       "  <tbody>\n",
       "    <tr>\n",
       "      <th>0</th>\n",
       "      <td>0</td>\n",
       "      <td>1467810369</td>\n",
       "      <td>Mon Apr 06 22:19:45 PDT 2009</td>\n",
       "      <td>NO_QUERY</td>\n",
       "      <td>_TheSpecialOne_</td>\n",
       "      <td>@switchfoot http://twitpic.com/2y1zl - Awww, t...</td>\n",
       "      <td>@switchfoot http://twitpic.com/2y1zl - awww, t...</td>\n",
       "    </tr>\n",
       "    <tr>\n",
       "      <th>1</th>\n",
       "      <td>0</td>\n",
       "      <td>1467810672</td>\n",
       "      <td>Mon Apr 06 22:19:49 PDT 2009</td>\n",
       "      <td>NO_QUERY</td>\n",
       "      <td>scotthamilton</td>\n",
       "      <td>is upset that he can't update his Facebook by ...</td>\n",
       "      <td>upset can't updat facebook text it... might cr...</td>\n",
       "    </tr>\n",
       "    <tr>\n",
       "      <th>2</th>\n",
       "      <td>0</td>\n",
       "      <td>1467810917</td>\n",
       "      <td>Mon Apr 06 22:19:53 PDT 2009</td>\n",
       "      <td>NO_QUERY</td>\n",
       "      <td>mattycus</td>\n",
       "      <td>@Kenichan I dived many times for the ball. Man...</td>\n",
       "      <td>@kenichan dive mani time ball. manag save 50% ...</td>\n",
       "    </tr>\n",
       "    <tr>\n",
       "      <th>3</th>\n",
       "      <td>0</td>\n",
       "      <td>1467811184</td>\n",
       "      <td>Mon Apr 06 22:19:57 PDT 2009</td>\n",
       "      <td>NO_QUERY</td>\n",
       "      <td>ElleCTF</td>\n",
       "      <td>my whole body feels itchy and like its on fire</td>\n",
       "      <td>whole bodi feel itchi like fire</td>\n",
       "    </tr>\n",
       "    <tr>\n",
       "      <th>4</th>\n",
       "      <td>0</td>\n",
       "      <td>1467811193</td>\n",
       "      <td>Mon Apr 06 22:19:57 PDT 2009</td>\n",
       "      <td>NO_QUERY</td>\n",
       "      <td>Karoli</td>\n",
       "      <td>@nationwideclass no, it's not behaving at all....</td>\n",
       "      <td>@nationwideclass no, behav all. i'm mad. here?...</td>\n",
       "    </tr>\n",
       "  </tbody>\n",
       "</table>\n",
       "</div>"
      ],
      "text/plain": [
       "   target          id                          date      flag  \\\n",
       "0       0  1467810369  Mon Apr 06 22:19:45 PDT 2009  NO_QUERY   \n",
       "1       0  1467810672  Mon Apr 06 22:19:49 PDT 2009  NO_QUERY   \n",
       "2       0  1467810917  Mon Apr 06 22:19:53 PDT 2009  NO_QUERY   \n",
       "3       0  1467811184  Mon Apr 06 22:19:57 PDT 2009  NO_QUERY   \n",
       "4       0  1467811193  Mon Apr 06 22:19:57 PDT 2009  NO_QUERY   \n",
       "\n",
       "              user                                               text  \\\n",
       "0  _TheSpecialOne_  @switchfoot http://twitpic.com/2y1zl - Awww, t...   \n",
       "1    scotthamilton  is upset that he can't update his Facebook by ...   \n",
       "2         mattycus  @Kenichan I dived many times for the ball. Man...   \n",
       "3          ElleCTF    my whole body feels itchy and like its on fire    \n",
       "4           Karoli  @nationwideclass no, it's not behaving at all....   \n",
       "\n",
       "                                     stemmed_content  \n",
       "0  @switchfoot http://twitpic.com/2y1zl - awww, t...  \n",
       "1  upset can't updat facebook text it... might cr...  \n",
       "2  @kenichan dive mani time ball. manag save 50% ...  \n",
       "3                    whole bodi feel itchi like fire  \n",
       "4  @nationwideclass no, behav all. i'm mad. here?...  "
      ]
     },
     "execution_count": 19,
     "metadata": {},
     "output_type": "execute_result"
    }
   ],
   "source": [
    "twitter_data.head()"
   ]
  },
  {
   "cell_type": "code",
   "execution_count": 20,
   "metadata": {
    "execution": {
     "iopub.execute_input": "2024-04-12T10:21:23.208139Z",
     "iopub.status.busy": "2024-04-12T10:21:23.207863Z",
     "iopub.status.idle": "2024-04-12T10:21:23.230958Z",
     "shell.execute_reply": "2024-04-12T10:21:23.230037Z",
     "shell.execute_reply.started": "2024-04-12T10:21:23.208116Z"
    }
   },
   "outputs": [
    {
     "name": "stdout",
     "output_type": "stream",
     "text": [
      "0          @switchfoot http://twitpic.com/2y1zl - awww, t...\n",
      "1          upset can't updat facebook text it... might cr...\n",
      "2          @kenichan dive mani time ball. manag save 50% ...\n",
      "3                            whole bodi feel itchi like fire\n",
      "4          @nationwideclass no, behav all. i'm mad. here?...\n",
      "                                 ...                        \n",
      "1599995                       woke up. school best feel ever\n",
      "1599996    thewdb.com - cool hear old walt interviews! â...\n",
      "1599997                      readi mojo makeover? ask detail\n",
      "1599998    happi 38th birthday boo alll time!!! tupac ama...\n",
      "1599999    happi #charitytuesday @thenspcc @sparkschar @s...\n",
      "Name: stemmed_content, Length: 1600000, dtype: object\n"
     ]
    }
   ],
   "source": [
    "print(twitter_data['stemmed_content'])"
   ]
  },
  {
   "cell_type": "code",
   "execution_count": 21,
   "metadata": {
    "execution": {
     "iopub.execute_input": "2024-04-12T10:21:23.232633Z",
     "iopub.status.busy": "2024-04-12T10:21:23.232278Z",
     "iopub.status.idle": "2024-04-12T10:21:23.241355Z",
     "shell.execute_reply": "2024-04-12T10:21:23.240587Z",
     "shell.execute_reply.started": "2024-04-12T10:21:23.232604Z"
    }
   },
   "outputs": [
    {
     "name": "stdout",
     "output_type": "stream",
     "text": [
      "0          0\n",
      "1          0\n",
      "2          0\n",
      "3          0\n",
      "4          0\n",
      "          ..\n",
      "1599995    1\n",
      "1599996    1\n",
      "1599997    1\n",
      "1599998    1\n",
      "1599999    1\n",
      "Name: target, Length: 1600000, dtype: int64\n"
     ]
    }
   ],
   "source": [
    "print(twitter_data['target'])"
   ]
  },
  {
   "cell_type": "code",
   "execution_count": 22,
   "metadata": {
    "execution": {
     "iopub.execute_input": "2024-04-12T10:21:23.242522Z",
     "iopub.status.busy": "2024-04-12T10:21:23.242266Z",
     "iopub.status.idle": "2024-04-12T10:21:23.251758Z",
     "shell.execute_reply": "2024-04-12T10:21:23.250424Z",
     "shell.execute_reply.started": "2024-04-12T10:21:23.242500Z"
    }
   },
   "outputs": [],
   "source": [
    "## seprating the data and the label \n",
    "X = twitter_data['stemmed_content'].values\n",
    "Y = twitter_data['target'].values"
   ]
  },
  {
   "cell_type": "code",
   "execution_count": 23,
   "metadata": {
    "execution": {
     "iopub.execute_input": "2024-04-12T10:21:23.253771Z",
     "iopub.status.busy": "2024-04-12T10:21:23.253394Z",
     "iopub.status.idle": "2024-04-12T10:21:23.261413Z",
     "shell.execute_reply": "2024-04-12T10:21:23.260385Z",
     "shell.execute_reply.started": "2024-04-12T10:21:23.253735Z"
    }
   },
   "outputs": [
    {
     "name": "stdout",
     "output_type": "stream",
     "text": [
      "[\"@switchfoot http://twitpic.com/2y1zl - awww, that' bummer. shoulda got david carr third day it. ;d\"\n",
      " \"upset can't updat facebook text it... might cri result school today also. blah!\"\n",
      " '@kenichan dive mani time ball. manag save 50% rest go bound' ...\n",
      " 'readi mojo makeover? ask detail'\n",
      " 'happi 38th birthday boo alll time!!! tupac amaru shakur'\n",
      " 'happi #charitytuesday @thenspcc @sparkschar @speakinguph4h']\n"
     ]
    }
   ],
   "source": [
    "print(X)"
   ]
  },
  {
   "cell_type": "code",
   "execution_count": 24,
   "metadata": {
    "execution": {
     "iopub.execute_input": "2024-04-12T10:21:23.263047Z",
     "iopub.status.busy": "2024-04-12T10:21:23.262762Z",
     "iopub.status.idle": "2024-04-12T10:21:23.275765Z",
     "shell.execute_reply": "2024-04-12T10:21:23.274169Z",
     "shell.execute_reply.started": "2024-04-12T10:21:23.263019Z"
    }
   },
   "outputs": [
    {
     "name": "stdout",
     "output_type": "stream",
     "text": [
      "[0 0 0 ... 1 1 1]\n"
     ]
    }
   ],
   "source": [
    "print(Y)"
   ]
  },
  {
   "cell_type": "code",
   "execution_count": 25,
   "metadata": {
    "execution": {
     "iopub.execute_input": "2024-04-12T10:21:23.278600Z",
     "iopub.status.busy": "2024-04-12T10:21:23.277180Z",
     "iopub.status.idle": "2024-04-12T10:21:23.919335Z",
     "shell.execute_reply": "2024-04-12T10:21:23.918547Z",
     "shell.execute_reply.started": "2024-04-12T10:21:23.278567Z"
    }
   },
   "outputs": [],
   "source": [
    "## split train and test data\n",
    "X_train,X_test,Y_train,Y_test = train_test_split(X,Y,test_size=0.2,stratify=Y,random_state=2)"
   ]
  },
  {
   "cell_type": "code",
   "execution_count": 26,
   "metadata": {
    "execution": {
     "iopub.execute_input": "2024-04-12T10:21:23.921219Z",
     "iopub.status.busy": "2024-04-12T10:21:23.920851Z",
     "iopub.status.idle": "2024-04-12T10:21:23.926041Z",
     "shell.execute_reply": "2024-04-12T10:21:23.925080Z",
     "shell.execute_reply.started": "2024-04-12T10:21:23.921186Z"
    }
   },
   "outputs": [
    {
     "name": "stdout",
     "output_type": "stream",
     "text": [
      "(1600000,) (1280000,) (320000,)\n"
     ]
    }
   ],
   "source": [
    "print(X.shape,X_train.shape,X_test.shape)"
   ]
  },
  {
   "cell_type": "code",
   "execution_count": 27,
   "metadata": {
    "execution": {
     "iopub.execute_input": "2024-04-12T10:21:23.928018Z",
     "iopub.status.busy": "2024-04-12T10:21:23.927446Z",
     "iopub.status.idle": "2024-04-12T10:21:23.935618Z",
     "shell.execute_reply": "2024-04-12T10:21:23.934786Z",
     "shell.execute_reply.started": "2024-04-12T10:21:23.927983Z"
    }
   },
   "outputs": [
    {
     "name": "stdout",
     "output_type": "stream",
     "text": [
      "['watch saw iv drink lil wine' \"@hatermagazin i'm in!\"\n",
      " 'even though favourit drink think vodka coke wipe mind time think im gonna find new drink'\n",
      " ... 'eager monday afternoon'\n",
      " \"hope everyon mother great day! can't wait hear guy store tomorrow!\"\n",
      " 'love wake folgers. bad voic deeper his.']\n"
     ]
    }
   ],
   "source": [
    "print(X_train)"
   ]
  },
  {
   "cell_type": "code",
   "execution_count": 28,
   "metadata": {
    "execution": {
     "iopub.execute_input": "2024-04-12T10:21:23.938255Z",
     "iopub.status.busy": "2024-04-12T10:21:23.937982Z",
     "iopub.status.idle": "2024-04-12T10:21:47.340308Z",
     "shell.execute_reply": "2024-04-12T10:21:47.339501Z",
     "shell.execute_reply.started": "2024-04-12T10:21:23.938232Z"
    }
   },
   "outputs": [],
   "source": [
    "## converting the text data to numerical data\n",
    "vectorizer =  TfidfVectorizer()\n",
    "X_train = vectorizer.fit_transform(X_train)\n",
    "X_test = vectorizer.transform(X_test)"
   ]
  },
  {
   "cell_type": "code",
   "execution_count": 29,
   "metadata": {
    "execution": {
     "iopub.execute_input": "2024-04-12T10:21:47.341798Z",
     "iopub.status.busy": "2024-04-12T10:21:47.341502Z",
     "iopub.status.idle": "2024-04-12T10:21:47.449345Z",
     "shell.execute_reply": "2024-04-12T10:21:47.448382Z",
     "shell.execute_reply.started": "2024-04-12T10:21:47.341772Z"
    }
   },
   "outputs": [
    {
     "name": "stdout",
     "output_type": "stream",
     "text": [
      "  (0, 555967)\t0.4487209310983549\n",
      "  (0, 311959)\t0.42139898947807686\n",
      "  (0, 166830)\t0.3784260197534405\n",
      "  (0, 254267)\t0.5248773503338933\n",
      "  (0, 453116)\t0.35795997954657904\n",
      "  (0, 548734)\t0.272460245511403\n",
      "  (1, 247278)\t0.4216951552804088\n",
      "  (1, 226262)\t0.9067376665899747\n",
      "  (2, 375364)\t0.1668911233829414\n",
      "  (2, 193769)\t0.20184466588151023\n",
      "  (2, 214788)\t0.18696286991487276\n",
      "  (2, 245846)\t0.16108271281506448\n",
      "  (2, 516778)\t0.15260594669966604\n",
      "  (2, 349418)\t0.2408559466227688\n",
      "  (2, 556376)\t0.33614580595161764\n",
      "  (2, 129252)\t0.3117944515681846\n",
      "  (2, 545128)\t0.32796751926832934\n",
      "  (2, 513655)\t0.3201716231105769\n",
      "  (2, 190522)\t0.29198833954883197\n",
      "  (2, 514638)\t0.1860212510606397\n",
      "  (2, 184426)\t0.1903000016055046\n",
      "  (2, 166830)\t0.4613519643258155\n",
      "  (3, 239574)\t0.38340980743118147\n",
      "  (3, 519470)\t0.2688525366668751\n",
      "  (3, 493022)\t0.3914375454549088\n",
      "  :\t:\n",
      "  (1279996, 410084)\t0.21029847974488322\n",
      "  (1279996, 315358)\t0.2219434776579764\n",
      "  (1279996, 378383)\t0.1776339096901187\n",
      "  (1279996, 520651)\t0.1868087345439146\n",
      "  (1279997, 170751)\t0.756584644785961\n",
      "  (1279997, 356925)\t0.4370667160334468\n",
      "  (1279997, 44706)\t0.48636648837048746\n",
      "  (1279998, 489069)\t0.39399757895634036\n",
      "  (1279998, 359534)\t0.3709990646978321\n",
      "  (1279998, 221128)\t0.3122588831440868\n",
      "  (1279998, 227873)\t0.33189749575982486\n",
      "  (1279998, 217739)\t0.2714152969928637\n",
      "  (1279998, 547278)\t0.2733774862738663\n",
      "  (1279998, 108107)\t0.25117292480034903\n",
      "  (1279998, 184747)\t0.3236576174473998\n",
      "  (1279998, 236205)\t0.2565300566376088\n",
      "  (1279998, 148756)\t0.2118527438431575\n",
      "  (1279998, 520651)\t0.269316141394904\n",
      "  (1279999, 151607)\t0.4679063544227966\n",
      "  (1279999, 197306)\t0.5759202424536238\n",
      "  (1279999, 233246)\t0.4391237583174431\n",
      "  (1279999, 545182)\t0.3255220579273754\n",
      "  (1279999, 547406)\t0.27439074398086355\n",
      "  (1279999, 74997)\t0.21507960919293487\n",
      "  (1279999, 320388)\t0.17039869082202602\n"
     ]
    }
   ],
   "source": [
    "print(X_train)"
   ]
  },
  {
   "cell_type": "markdown",
   "metadata": {},
   "source": [
    "## Training the Machine Learning Model"
   ]
  },
  {
   "cell_type": "markdown",
   "metadata": {},
   "source": [
    "Logistic Regression"
   ]
  },
  {
   "cell_type": "code",
   "execution_count": 30,
   "metadata": {
    "execution": {
     "iopub.execute_input": "2024-04-12T10:21:47.450945Z",
     "iopub.status.busy": "2024-04-12T10:21:47.450621Z",
     "iopub.status.idle": "2024-04-12T10:21:47.455491Z",
     "shell.execute_reply": "2024-04-12T10:21:47.454472Z",
     "shell.execute_reply.started": "2024-04-12T10:21:47.450905Z"
    }
   },
   "outputs": [],
   "source": [
    "model = LogisticRegression(max_iter=1000)"
   ]
  },
  {
   "cell_type": "code",
   "execution_count": 31,
   "metadata": {
    "execution": {
     "iopub.execute_input": "2024-04-12T10:21:47.457251Z",
     "iopub.status.busy": "2024-04-12T10:21:47.456906Z",
     "iopub.status.idle": "2024-04-12T10:24:08.469399Z",
     "shell.execute_reply": "2024-04-12T10:24:08.468097Z",
     "shell.execute_reply.started": "2024-04-12T10:21:47.457224Z"
    }
   },
   "outputs": [
    {
     "data": {
      "text/html": [
       "<style>#sk-container-id-1 {color: black;background-color: white;}#sk-container-id-1 pre{padding: 0;}#sk-container-id-1 div.sk-toggleable {background-color: white;}#sk-container-id-1 label.sk-toggleable__label {cursor: pointer;display: block;width: 100%;margin-bottom: 0;padding: 0.3em;box-sizing: border-box;text-align: center;}#sk-container-id-1 label.sk-toggleable__label-arrow:before {content: \"▸\";float: left;margin-right: 0.25em;color: #696969;}#sk-container-id-1 label.sk-toggleable__label-arrow:hover:before {color: black;}#sk-container-id-1 div.sk-estimator:hover label.sk-toggleable__label-arrow:before {color: black;}#sk-container-id-1 div.sk-toggleable__content {max-height: 0;max-width: 0;overflow: hidden;text-align: left;background-color: #f0f8ff;}#sk-container-id-1 div.sk-toggleable__content pre {margin: 0.2em;color: black;border-radius: 0.25em;background-color: #f0f8ff;}#sk-container-id-1 input.sk-toggleable__control:checked~div.sk-toggleable__content {max-height: 200px;max-width: 100%;overflow: auto;}#sk-container-id-1 input.sk-toggleable__control:checked~label.sk-toggleable__label-arrow:before {content: \"▾\";}#sk-container-id-1 div.sk-estimator input.sk-toggleable__control:checked~label.sk-toggleable__label {background-color: #d4ebff;}#sk-container-id-1 div.sk-label input.sk-toggleable__control:checked~label.sk-toggleable__label {background-color: #d4ebff;}#sk-container-id-1 input.sk-hidden--visually {border: 0;clip: rect(1px 1px 1px 1px);clip: rect(1px, 1px, 1px, 1px);height: 1px;margin: -1px;overflow: hidden;padding: 0;position: absolute;width: 1px;}#sk-container-id-1 div.sk-estimator {font-family: monospace;background-color: #f0f8ff;border: 1px dotted black;border-radius: 0.25em;box-sizing: border-box;margin-bottom: 0.5em;}#sk-container-id-1 div.sk-estimator:hover {background-color: #d4ebff;}#sk-container-id-1 div.sk-parallel-item::after {content: \"\";width: 100%;border-bottom: 1px solid gray;flex-grow: 1;}#sk-container-id-1 div.sk-label:hover label.sk-toggleable__label {background-color: #d4ebff;}#sk-container-id-1 div.sk-serial::before {content: \"\";position: absolute;border-left: 1px solid gray;box-sizing: border-box;top: 0;bottom: 0;left: 50%;z-index: 0;}#sk-container-id-1 div.sk-serial {display: flex;flex-direction: column;align-items: center;background-color: white;padding-right: 0.2em;padding-left: 0.2em;position: relative;}#sk-container-id-1 div.sk-item {position: relative;z-index: 1;}#sk-container-id-1 div.sk-parallel {display: flex;align-items: stretch;justify-content: center;background-color: white;position: relative;}#sk-container-id-1 div.sk-item::before, #sk-container-id-1 div.sk-parallel-item::before {content: \"\";position: absolute;border-left: 1px solid gray;box-sizing: border-box;top: 0;bottom: 0;left: 50%;z-index: -1;}#sk-container-id-1 div.sk-parallel-item {display: flex;flex-direction: column;z-index: 1;position: relative;background-color: white;}#sk-container-id-1 div.sk-parallel-item:first-child::after {align-self: flex-end;width: 50%;}#sk-container-id-1 div.sk-parallel-item:last-child::after {align-self: flex-start;width: 50%;}#sk-container-id-1 div.sk-parallel-item:only-child::after {width: 0;}#sk-container-id-1 div.sk-dashed-wrapped {border: 1px dashed gray;margin: 0 0.4em 0.5em 0.4em;box-sizing: border-box;padding-bottom: 0.4em;background-color: white;}#sk-container-id-1 div.sk-label label {font-family: monospace;font-weight: bold;display: inline-block;line-height: 1.2em;}#sk-container-id-1 div.sk-label-container {text-align: center;}#sk-container-id-1 div.sk-container {/* jupyter's `normalize.less` sets `[hidden] { display: none; }` but bootstrap.min.css set `[hidden] { display: none !important; }` so we also need the `!important` here to be able to override the default hidden behavior on the sphinx rendered scikit-learn.org. See: https://github.com/scikit-learn/scikit-learn/issues/21755 */display: inline-block !important;position: relative;}#sk-container-id-1 div.sk-text-repr-fallback {display: none;}</style><div id=\"sk-container-id-1\" class=\"sk-top-container\"><div class=\"sk-text-repr-fallback\"><pre>LogisticRegression(max_iter=1000)</pre><b>In a Jupyter environment, please rerun this cell to show the HTML representation or trust the notebook. <br />On GitHub, the HTML representation is unable to render, please try loading this page with nbviewer.org.</b></div><div class=\"sk-container\" hidden><div class=\"sk-item\"><div class=\"sk-estimator sk-toggleable\"><input class=\"sk-toggleable__control sk-hidden--visually\" id=\"sk-estimator-id-1\" type=\"checkbox\" checked><label for=\"sk-estimator-id-1\" class=\"sk-toggleable__label sk-toggleable__label-arrow\">LogisticRegression</label><div class=\"sk-toggleable__content\"><pre>LogisticRegression(max_iter=1000)</pre></div></div></div></div></div>"
      ],
      "text/plain": [
       "LogisticRegression(max_iter=1000)"
      ]
     },
     "execution_count": 31,
     "metadata": {},
     "output_type": "execute_result"
    }
   ],
   "source": [
    "model.fit(X_train,Y_train)"
   ]
  },
  {
   "cell_type": "markdown",
   "metadata": {},
   "source": [
    "## Model Evaluation\n",
    "Accuracy score"
   ]
  },
  {
   "cell_type": "code",
   "execution_count": 32,
   "metadata": {
    "execution": {
     "iopub.execute_input": "2024-04-12T10:24:08.475895Z",
     "iopub.status.busy": "2024-04-12T10:24:08.473545Z",
     "iopub.status.idle": "2024-04-12T10:24:08.629434Z",
     "shell.execute_reply": "2024-04-12T10:24:08.628433Z",
     "shell.execute_reply.started": "2024-04-12T10:24:08.475831Z"
    }
   },
   "outputs": [
    {
     "name": "stdout",
     "output_type": "stream",
     "text": [
      "Accuracy score on the training data : 0.8168734375\n"
     ]
    }
   ],
   "source": [
    "## accuracy score on training data\n",
    "X_train_prediction = model.predict(X_train)\n",
    "training_data_accuracy = accuracy_score(Y_train,X_train_prediction)\n",
    "print('Accuracy score on the training data :',training_data_accuracy)"
   ]
  },
  {
   "cell_type": "code",
   "execution_count": 33,
   "metadata": {
    "execution": {
     "iopub.execute_input": "2024-04-12T10:24:08.631122Z",
     "iopub.status.busy": "2024-04-12T10:24:08.630749Z",
     "iopub.status.idle": "2024-04-12T10:24:08.654323Z",
     "shell.execute_reply": "2024-04-12T10:24:08.653281Z",
     "shell.execute_reply.started": "2024-04-12T10:24:08.631087Z"
    }
   },
   "outputs": [
    {
     "name": "stdout",
     "output_type": "stream",
     "text": [
      "Accuracy score on the testing data 0.782246875\n"
     ]
    }
   ],
   "source": [
    "## accuracy score on the test data\n",
    "X_test_prediction = model.predict(X_test)\n",
    "test_data_accuracy = accuracy_score(Y_test,X_test_prediction)\n",
    "print('Accuracy score on the testing data', test_data_accuracy)"
   ]
  },
  {
   "cell_type": "code",
   "execution_count": 34,
   "metadata": {
    "execution": {
     "iopub.execute_input": "2024-04-12T10:24:08.655550Z",
     "iopub.status.busy": "2024-04-12T10:24:08.655268Z",
     "iopub.status.idle": "2024-04-12T10:24:08.665271Z",
     "shell.execute_reply": "2024-04-12T10:24:08.664559Z",
     "shell.execute_reply.started": "2024-04-12T10:24:08.655526Z"
    }
   },
   "outputs": [],
   "source": [
    "## saving the trained model\n",
    "import pickle \n",
    "filename = 'trained_model.sav'\n",
    "pickle.dump(model,open(filename,'wb')) ## wb -> write in binary format"
   ]
  },
  {
   "cell_type": "code",
   "execution_count": 36,
   "metadata": {
    "execution": {
     "iopub.execute_input": "2024-04-12T10:28:13.112934Z",
     "iopub.status.busy": "2024-04-12T10:28:13.112565Z",
     "iopub.status.idle": "2024-04-12T10:28:13.119008Z",
     "shell.execute_reply": "2024-04-12T10:28:13.118122Z",
     "shell.execute_reply.started": "2024-04-12T10:28:13.112906Z"
    }
   },
   "outputs": [],
   "source": [
    "## using the saved model for future predictions\n",
    "## loading the model\n",
    "loaded_model = pickle.load(open('/kaggle/working/trained_model.sav','rb'))"
   ]
  },
  {
   "cell_type": "code",
   "execution_count": 37,
   "metadata": {
    "execution": {
     "iopub.execute_input": "2024-04-12T10:28:14.433525Z",
     "iopub.status.busy": "2024-04-12T10:28:14.432650Z",
     "iopub.status.idle": "2024-04-12T10:28:14.439642Z",
     "shell.execute_reply": "2024-04-12T10:28:14.438534Z",
     "shell.execute_reply.started": "2024-04-12T10:28:14.433491Z"
    }
   },
   "outputs": [
    {
     "name": "stdout",
     "output_type": "stream",
     "text": [
      "Positive Tweet\n"
     ]
    }
   ],
   "source": [
    "X_new = X_test[200]\n",
    "prediction = model.predict(X_new)\n",
    "if (prediction[0] == 0):\n",
    "    print(\"Negative Tweet\")\n",
    "else:\n",
    "    print(\"Positive Tweet\")"
   ]
  },
  {
   "cell_type": "code",
   "execution_count": null,
   "metadata": {},
   "outputs": [],
   "source": []
  }
 ],
 "metadata": {
  "kaggle": {
   "accelerator": "nvidiaTeslaT4",
   "dataSources": [
    {
     "datasetId": 2477,
     "sourceId": 4140,
     "sourceType": "datasetVersion"
    }
   ],
   "dockerImageVersionId": 30684,
   "isGpuEnabled": true,
   "isInternetEnabled": true,
   "language": "python",
   "sourceType": "notebook"
  },
  "kernelspec": {
   "display_name": "Python 3 (ipykernel)",
   "language": "python",
   "name": "python3"
  },
  "language_info": {
   "codemirror_mode": {
    "name": "ipython",
    "version": 3
   },
   "file_extension": ".py",
   "mimetype": "text/x-python",
   "name": "python",
   "nbconvert_exporter": "python",
   "pygments_lexer": "ipython3",
   "version": "3.11.5"
  }
 },
 "nbformat": 4,
 "nbformat_minor": 4
}
